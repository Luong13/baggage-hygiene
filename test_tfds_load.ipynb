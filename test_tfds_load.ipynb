{
 "cells": [
  {
   "cell_type": "code",
   "execution_count": null,
   "id": "3d065a04-b00d-4d77-9b06-abcb5fceafab",
   "metadata": {},
   "outputs": [],
   "source": [
    "import tensorflow as tf\n",
    "import tensorflow_datasets as tfds\n",
    "from tensorflow import keras\n",
    "from tensorflow.keras import optimizers\n",
    "import keras_cv\n",
    "from keras_cv import bounding_box\n",
    "from keras_cv import visualization\n",
    "import cv2\n",
    "import numpy as np\n",
    "import os\n",
    "import resource\n",
    "import tqdm\n",
    "\n",
    "import my_dataset.my_dataset_dataset_builder\n",
    "\n",
    "%load_ext tensorboard\n",
    "%load_ext autoreload\n",
    "%autoreload 2"
   ]
  },
  {
   "cell_type": "code",
   "execution_count": null,
   "id": "f58d7361-bd54-46a9-b8bc-4b7a1f4d7d19",
   "metadata": {},
   "outputs": [],
   "source": [
    "train_ds = tfds.load('my_dataset_builder')"
   ]
  },
  {
   "cell_type": "code",
   "execution_count": null,
   "id": "3c281dc3-d8f0-43cd-84e1-fcb791562acb",
   "metadata": {},
   "outputs": [],
   "source": [
    "next(iter(train_ds['train'].take(2)))"
   ]
  },
  {
   "cell_type": "code",
   "execution_count": null,
   "id": "2ba37241-d7f1-408f-b3ba-95875d5f6bf1",
   "metadata": {},
   "outputs": [],
   "source": [
    "voc_train_ds = tfds.load('voc/2007', split='train', with_info=False, shuffle_files=True)"
   ]
  },
  {
   "cell_type": "code",
   "execution_count": null,
   "id": "936734e2-7f57-4f55-87ac-cef0278199c2",
   "metadata": {},
   "outputs": [],
   "source": [
    "next(iter(voc_train_ds))"
   ]
  },
  {
   "cell_type": "code",
   "execution_count": null,
   "id": "6b278ea4-2023-4cb2-b83b-90b4045e72ad",
   "metadata": {},
   "outputs": [],
   "source": [
    "data = my_dataset.my_dataset_dataset_builder.MyDatasetBuilder._split_generators(my_dataset.my_dataset_dataset_builder.MyDatasetBuilder)\n",
    "i = 0\n",
    "for d in data['trin']:\n",
    "    print(d)\n",
    "    i += 1\n",
    "print(i)"
   ]
  },
  {
   "cell_type": "code",
   "execution_count": null,
   "id": "69785e8e-bafd-4285-9401-f7465da77ced",
   "metadata": {},
   "outputs": [],
   "source": []
  }
 ],
 "metadata": {
  "kernelspec": {
   "display_name": "Python 3 (ipykernel)",
   "language": "python",
   "name": "python3"
  },
  "language_info": {
   "codemirror_mode": {
    "name": "ipython",
    "version": 3
   },
   "file_extension": ".py",
   "mimetype": "text/x-python",
   "name": "python",
   "nbconvert_exporter": "python",
   "pygments_lexer": "ipython3",
   "version": "3.11.0rc1"
  }
 },
 "nbformat": 4,
 "nbformat_minor": 5
}
